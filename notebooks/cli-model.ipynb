{
 "cells": [
  {
   "cell_type": "code",
   "execution_count": 1,
   "metadata": {},
   "outputs": [],
   "source": [
    "from pydantic import BaseModel, Field, field_validator\n",
    "from typing import Optional, Any, Dict, Callable, Union\n",
    "from rich import print\n",
    "\n",
    "JsonDict = Dict[str, Any]\n",
    "\n",
    "\n",
    "def CliArg(default: Any = None, flag: Optional[str] = None, **kwargs) -> Any:\n",
    "    \"\"\"Wrapper around pydantic Field to add flag for cli commands.\"\"\"\n",
    "    extra: Union[JsonDict, Callable[[JsonDict], None]] = {\"flag\": flag} if flag else {}\n",
    "    return Field(default=default, json_schema_extra=extra, **kwargs)\n",
    "\n",
    "\n",
    "class CliCommand(BaseModel):\n",
    "    \"\"\"Base class for CLI commands to format arguments.\"\"\"\n",
    "    def to_cli_args(self) -> list[str]:\n",
    "        args = []\n",
    "        for field_name, field in self.model_fields.items():\n",
    "            value = getattr(self, field_name)\n",
    "            if value is None:\n",
    "                continue\n",
    "\n",
    "            flag = (\n",
    "                field.json_schema_extra.get(\"flag\") if field.json_schema_extra else None\n",
    "            )\n",
    "\n",
    "            if flag:\n",
    "                if isinstance(value, bool):\n",
    "                    if value:\n",
    "                        args.append(flag)\n",
    "                else:\n",
    "                    args.extend([flag, str(value)])\n",
    "            elif not isinstance(value, bool):\n",
    "                args.append(str(value))\n",
    "\n",
    "        return args"
   ]
  },
  {
   "cell_type": "code",
   "execution_count": 2,
   "metadata": {},
   "outputs": [],
   "source": [
    "from pydantic import model_validator\n",
    "\n",
    "\n",
    "class ProdigalCommand(CliCommand):\n",
    "    \n",
    "    mode: Optional[str] = CliArg(\n",
    "        default=\"anon\",\n",
    "        flag=\"--mode\",\n",
    "        description=\"Specify mode (normal, train, or anon).\",\n",
    "    )\n",
    "    input_file: str = CliArg(\n",
    "        ...,\n",
    "        flag=\"--input_file\",\n",
    "        description=\"Specify input file (default stdin)\",\n",
    "    )\n",
    "    output_file: str = CliArg(\n",
    "        flag=\"--output_file\", description=\"Specify output file (default stdout)\"\n",
    "    )\n",
    "    protein_output_file: Optional[str] = CliArg(\n",
    "        default=None,\n",
    "        flag=\"--protein_file\",\n",
    "        description=\"Specify protein translations file\",\n",
    "    )\n",
    "    nucleotide_output_file: Optional[str] = CliArg(\n",
    "        default=None,\n",
    "        flag=\"--mrna_file\",\n",
    "        description=\"Specify nucleotide sequences file\",\n",
    "    )\n",
    "    training_file: Optional[str] = CliArg(\n",
    "        default=None, flag=\"--start_file\", description=\"Specify complete starts file\"\n",
    "    )\n",
    "    summary_file: Optional[str] = CliArg(\n",
    "        default=None, flag=\"--summ_file\", description=\"Specify summary statistics file\"\n",
    "    )\n",
    "    output_format: Optional[str] = CliArg(\n",
    "        default=\"gbk\",\n",
    "        flag=\"--output_format\",\n",
    "        description=\"Specify output format\",\n",
    "    )\n",
    "    quiet: Optional[bool] = CliArg(\n",
    "        default=None,\n",
    "        flag=\"--quiet\",\n",
    "        description=\"Run quietly (suppress logging output)\",\n",
    "    )\n",
    "\n",
    "    @field_validator(\"mode\")\n",
    "    def validate_mode(cls, v):\n",
    "        if v not in (\"normal\", \"train\", \"anon\"):\n",
    "            raise ValueError('mode must be \"normal\", \"train\", \"anon\"')\n",
    "        return v\n",
    "\n",
    "    @field_validator(\"output_format\")\n",
    "    def validate_output_format(cls, v):\n",
    "        if v not in [\"gbk\", \"gff\", \"sqn\", \"sco\"]:\n",
    "            raise ValueError(\n",
    "                'output_format must be one of [\"gbk\", \"gff\", \"sqn\", \"sco\"]'\n",
    "            )\n",
    "        return v\n",
    "\n",
    "    @model_validator(mode=\"after\")\n",
    "    def validate_output_file(cls, values):\n",
    "        output_file = values.output_file\n",
    "        output_format = values.output_format\n",
    "        if output_format and output_file and not output_file.endswith(output_format):\n",
    "            raise ValueError(\n",
    "                f\"Output file must end with the specified output format: .{output_format}\"\n",
    "            )\n",
    "        return values"
   ]
  },
  {
   "cell_type": "code",
   "execution_count": 3,
   "metadata": {},
   "outputs": [
    {
     "data": {
      "text/html": [
       "<pre style=\"white-space:pre;overflow-x:auto;line-height:normal;font-family:Menlo,'DejaVu Sans Mono',consolas,'Courier New',monospace\"><span style=\"color: #800080; text-decoration-color: #800080; font-weight: bold\">ProdigalCommand</span><span style=\"font-weight: bold\">(</span>\n",
       "    <span style=\"color: #808000; text-decoration-color: #808000\">mode</span>=<span style=\"color: #008000; text-decoration-color: #008000\">'anon'</span>,\n",
       "    <span style=\"color: #808000; text-decoration-color: #808000\">input_file</span>=<span style=\"color: #008000; text-decoration-color: #008000\">'contigs.fna'</span>,\n",
       "    <span style=\"color: #808000; text-decoration-color: #808000\">output_file</span>=<span style=\"color: #008000; text-decoration-color: #008000\">'output.gbk'</span>,\n",
       "    <span style=\"color: #808000; text-decoration-color: #808000\">protein_output_file</span>=<span style=\"color: #008000; text-decoration-color: #008000\">'output.faa'</span>,\n",
       "    <span style=\"color: #808000; text-decoration-color: #808000\">nucleotide_output_file</span>=<span style=\"color: #008000; text-decoration-color: #008000\">'output.ffn'</span>,\n",
       "    <span style=\"color: #808000; text-decoration-color: #808000\">training_file</span>=<span style=\"color: #800080; text-decoration-color: #800080; font-style: italic\">None</span>,\n",
       "    <span style=\"color: #808000; text-decoration-color: #808000\">summary_file</span>=<span style=\"color: #800080; text-decoration-color: #800080; font-style: italic\">None</span>,\n",
       "    <span style=\"color: #808000; text-decoration-color: #808000\">output_format</span>=<span style=\"color: #008000; text-decoration-color: #008000\">'gbk'</span>,\n",
       "    <span style=\"color: #808000; text-decoration-color: #808000\">quiet</span>=<span style=\"color: #800080; text-decoration-color: #800080; font-style: italic\">None</span>\n",
       "<span style=\"font-weight: bold\">)</span>\n",
       "</pre>\n"
      ],
      "text/plain": [
       "\u001b[1;35mProdigalCommand\u001b[0m\u001b[1m(\u001b[0m\n",
       "    \u001b[33mmode\u001b[0m=\u001b[32m'anon'\u001b[0m,\n",
       "    \u001b[33minput_file\u001b[0m=\u001b[32m'contigs.fna'\u001b[0m,\n",
       "    \u001b[33moutput_file\u001b[0m=\u001b[32m'output.gbk'\u001b[0m,\n",
       "    \u001b[33mprotein_output_file\u001b[0m=\u001b[32m'output.faa'\u001b[0m,\n",
       "    \u001b[33mnucleotide_output_file\u001b[0m=\u001b[32m'output.ffn'\u001b[0m,\n",
       "    \u001b[33mtraining_file\u001b[0m=\u001b[3;35mNone\u001b[0m,\n",
       "    \u001b[33msummary_file\u001b[0m=\u001b[3;35mNone\u001b[0m,\n",
       "    \u001b[33moutput_format\u001b[0m=\u001b[32m'gbk'\u001b[0m,\n",
       "    \u001b[33mquiet\u001b[0m=\u001b[3;35mNone\u001b[0m\n",
       "\u001b[1m)\u001b[0m\n"
      ]
     },
     "metadata": {},
     "output_type": "display_data"
    },
    {
     "data": {
      "text/html": [
       "<pre style=\"white-space:pre;overflow-x:auto;line-height:normal;font-family:Menlo,'DejaVu Sans Mono',consolas,'Courier New',monospace\"><span style=\"font-weight: bold\">[</span>\n",
       "    <span style=\"color: #008000; text-decoration-color: #008000\">'--mode'</span>,\n",
       "    <span style=\"color: #008000; text-decoration-color: #008000\">'anon'</span>,\n",
       "    <span style=\"color: #008000; text-decoration-color: #008000\">'--input_file'</span>,\n",
       "    <span style=\"color: #008000; text-decoration-color: #008000\">'contigs.fna'</span>,\n",
       "    <span style=\"color: #008000; text-decoration-color: #008000\">'--output_file'</span>,\n",
       "    <span style=\"color: #008000; text-decoration-color: #008000\">'output.gbk'</span>,\n",
       "    <span style=\"color: #008000; text-decoration-color: #008000\">'--protein_file'</span>,\n",
       "    <span style=\"color: #008000; text-decoration-color: #008000\">'output.faa'</span>,\n",
       "    <span style=\"color: #008000; text-decoration-color: #008000\">'--mrna_file'</span>,\n",
       "    <span style=\"color: #008000; text-decoration-color: #008000\">'output.ffn'</span>,\n",
       "    <span style=\"color: #008000; text-decoration-color: #008000\">'--output_format'</span>,\n",
       "    <span style=\"color: #008000; text-decoration-color: #008000\">'gbk'</span>\n",
       "<span style=\"font-weight: bold\">]</span>\n",
       "</pre>\n"
      ],
      "text/plain": [
       "\u001b[1m[\u001b[0m\n",
       "    \u001b[32m'--mode'\u001b[0m,\n",
       "    \u001b[32m'anon'\u001b[0m,\n",
       "    \u001b[32m'--input_file'\u001b[0m,\n",
       "    \u001b[32m'contigs.fna'\u001b[0m,\n",
       "    \u001b[32m'--output_file'\u001b[0m,\n",
       "    \u001b[32m'output.gbk'\u001b[0m,\n",
       "    \u001b[32m'--protein_file'\u001b[0m,\n",
       "    \u001b[32m'output.faa'\u001b[0m,\n",
       "    \u001b[32m'--mrna_file'\u001b[0m,\n",
       "    \u001b[32m'output.ffn'\u001b[0m,\n",
       "    \u001b[32m'--output_format'\u001b[0m,\n",
       "    \u001b[32m'gbk'\u001b[0m\n",
       "\u001b[1m]\u001b[0m\n"
      ]
     },
     "metadata": {},
     "output_type": "display_data"
    }
   ],
   "source": [
    "# Testing the implementation\n",
    "p = ProdigalCommand(\n",
    "    input_file=\"contigs.fna\",\n",
    "    mode=\"anon\",\n",
    "    output_file=\"output.gbk\",\n",
    "    protein_output_file=\"output.faa\",\n",
    "    nucleotide_output_file=\"output.ffn\",\n",
    ")\n",
    "print(p)\n",
    "\n",
    "print(p.to_cli_args())"
   ]
  },
  {
   "cell_type": "code",
   "execution_count": 4,
   "metadata": {},
   "outputs": [
    {
     "data": {
      "text/html": [
       "<pre style=\"white-space:pre;overflow-x:auto;line-height:normal;font-family:Menlo,'DejaVu Sans Mono',consolas,'Courier New',monospace\"><span style=\"font-weight: bold\">{</span>\n",
       "    <span style=\"color: #008000; text-decoration-color: #008000\">'type'</span>: <span style=\"color: #008000; text-decoration-color: #008000\">'value_error'</span>,\n",
       "    <span style=\"color: #008000; text-decoration-color: #008000\">'loc'</span>: <span style=\"font-weight: bold\">(</span><span style=\"color: #008000; text-decoration-color: #008000\">'mode'</span>,<span style=\"font-weight: bold\">)</span>,\n",
       "    <span style=\"color: #008000; text-decoration-color: #008000\">'msg'</span>: <span style=\"color: #008000; text-decoration-color: #008000\">'Value error, mode must be \"normal\", \"train\", \"anon\"'</span>,\n",
       "    <span style=\"color: #008000; text-decoration-color: #008000\">'input'</span>: <span style=\"color: #008000; text-decoration-color: #008000\">\"doesn't exist\"</span>,\n",
       "    <span style=\"color: #008000; text-decoration-color: #008000\">'ctx'</span>: <span style=\"font-weight: bold\">{</span><span style=\"color: #008000; text-decoration-color: #008000\">'error'</span>: <span style=\"color: #800080; text-decoration-color: #800080; font-weight: bold\">ValueError</span><span style=\"font-weight: bold\">(</span><span style=\"color: #008000; text-decoration-color: #008000\">'mode must be \"normal\", \"train\", \"anon\"'</span><span style=\"font-weight: bold\">)}</span>,\n",
       "    <span style=\"color: #008000; text-decoration-color: #008000\">'url'</span>: <span style=\"color: #008000; text-decoration-color: #008000\">'https://errors.pydantic.dev/2.7/v/value_error'</span>\n",
       "<span style=\"font-weight: bold\">}</span>\n",
       "</pre>\n"
      ],
      "text/plain": [
       "\u001b[1m{\u001b[0m\n",
       "    \u001b[32m'type'\u001b[0m: \u001b[32m'value_error'\u001b[0m,\n",
       "    \u001b[32m'loc'\u001b[0m: \u001b[1m(\u001b[0m\u001b[32m'mode'\u001b[0m,\u001b[1m)\u001b[0m,\n",
       "    \u001b[32m'msg'\u001b[0m: \u001b[32m'Value error, mode must be \"normal\", \"train\", \"anon\"'\u001b[0m,\n",
       "    \u001b[32m'input'\u001b[0m: \u001b[32m\"doesn't exist\"\u001b[0m,\n",
       "    \u001b[32m'ctx'\u001b[0m: \u001b[1m{\u001b[0m\u001b[32m'error'\u001b[0m: \u001b[1;35mValueError\u001b[0m\u001b[1m(\u001b[0m\u001b[32m'mode must be \"normal\", \"train\", \"anon\"'\u001b[0m\u001b[1m)\u001b[0m\u001b[1m}\u001b[0m,\n",
       "    \u001b[32m'url'\u001b[0m: \u001b[32m'https://errors.pydantic.dev/2.7/v/value_error'\u001b[0m\n",
       "\u001b[1m}\u001b[0m\n"
      ]
     },
     "metadata": {},
     "output_type": "display_data"
    },
    {
     "data": {
      "text/html": [
       "<pre style=\"white-space:pre;overflow-x:auto;line-height:normal;font-family:Menlo,'DejaVu Sans Mono',consolas,'Courier New',monospace\"><span style=\"font-weight: bold\">{</span>\n",
       "    <span style=\"color: #008000; text-decoration-color: #008000\">'type'</span>: <span style=\"color: #008000; text-decoration-color: #008000\">'value_error'</span>,\n",
       "    <span style=\"color: #008000; text-decoration-color: #008000\">'loc'</span>: <span style=\"font-weight: bold\">(</span><span style=\"color: #008000; text-decoration-color: #008000\">'output_format'</span>,<span style=\"font-weight: bold\">)</span>,\n",
       "    <span style=\"color: #008000; text-decoration-color: #008000\">'msg'</span>: <span style=\"color: #008000; text-decoration-color: #008000\">'Value error, output_format must be one of [\"gbk\", \"gff\", \"sqn\", \"sco\"]'</span>,\n",
       "    <span style=\"color: #008000; text-decoration-color: #008000\">'input'</span>: <span style=\"color: #008000; text-decoration-color: #008000\">'abc'</span>,\n",
       "    <span style=\"color: #008000; text-decoration-color: #008000\">'ctx'</span>: <span style=\"font-weight: bold\">{</span><span style=\"color: #008000; text-decoration-color: #008000\">'error'</span>: <span style=\"color: #800080; text-decoration-color: #800080; font-weight: bold\">ValueError</span><span style=\"font-weight: bold\">(</span><span style=\"color: #008000; text-decoration-color: #008000\">'output_format must be one of [\"gbk\", \"gff\", \"sqn\", \"sco\"]'</span><span style=\"font-weight: bold\">)}</span>,\n",
       "    <span style=\"color: #008000; text-decoration-color: #008000\">'url'</span>: <span style=\"color: #008000; text-decoration-color: #008000\">'https://errors.pydantic.dev/2.7/v/value_error'</span>\n",
       "<span style=\"font-weight: bold\">}</span>\n",
       "</pre>\n"
      ],
      "text/plain": [
       "\u001b[1m{\u001b[0m\n",
       "    \u001b[32m'type'\u001b[0m: \u001b[32m'value_error'\u001b[0m,\n",
       "    \u001b[32m'loc'\u001b[0m: \u001b[1m(\u001b[0m\u001b[32m'output_format'\u001b[0m,\u001b[1m)\u001b[0m,\n",
       "    \u001b[32m'msg'\u001b[0m: \u001b[32m'Value error, output_format must be one of \u001b[0m\u001b[32m[\u001b[0m\u001b[32m\"gbk\", \"gff\", \"sqn\", \"sco\"\u001b[0m\u001b[32m]\u001b[0m\u001b[32m'\u001b[0m,\n",
       "    \u001b[32m'input'\u001b[0m: \u001b[32m'abc'\u001b[0m,\n",
       "    \u001b[32m'ctx'\u001b[0m: \u001b[1m{\u001b[0m\u001b[32m'error'\u001b[0m: \u001b[1;35mValueError\u001b[0m\u001b[1m(\u001b[0m\u001b[32m'output_format must be one of \u001b[0m\u001b[32m[\u001b[0m\u001b[32m\"gbk\", \"gff\", \"sqn\", \"sco\"\u001b[0m\u001b[32m]\u001b[0m\u001b[32m'\u001b[0m\u001b[1m)\u001b[0m\u001b[1m}\u001b[0m,\n",
       "    \u001b[32m'url'\u001b[0m: \u001b[32m'https://errors.pydantic.dev/2.7/v/value_error'\u001b[0m\n",
       "\u001b[1m}\u001b[0m\n"
      ]
     },
     "metadata": {},
     "output_type": "display_data"
    }
   ],
   "source": [
    "# trying to initialize with invalid values\n",
    "try:\n",
    "    p = ProdigalCommand(input_file=\"contigs.fna\", mode=\"doesn't exist\", output_format=\"abc\")\n",
    "except ValueError as e:\n",
    "    for error in e.errors():\n",
    "        print(error)"
   ]
  },
  {
   "cell_type": "code",
   "execution_count": 5,
   "metadata": {},
   "outputs": [
    {
     "data": {
      "text/html": [
       "<pre style=\"white-space:pre;overflow-x:auto;line-height:normal;font-family:Menlo,'DejaVu Sans Mono',consolas,'Courier New',monospace\"><span style=\"font-weight: bold\">{</span>\n",
       "    <span style=\"color: #008000; text-decoration-color: #008000\">'type'</span>: <span style=\"color: #008000; text-decoration-color: #008000\">'missing'</span>,\n",
       "    <span style=\"color: #008000; text-decoration-color: #008000\">'loc'</span>: <span style=\"font-weight: bold\">(</span><span style=\"color: #008000; text-decoration-color: #008000\">'input_file'</span>,<span style=\"font-weight: bold\">)</span>,\n",
       "    <span style=\"color: #008000; text-decoration-color: #008000\">'msg'</span>: <span style=\"color: #008000; text-decoration-color: #008000\">'Field required'</span>,\n",
       "    <span style=\"color: #008000; text-decoration-color: #008000\">'input'</span>: <span style=\"font-weight: bold\">{}</span>,\n",
       "    <span style=\"color: #008000; text-decoration-color: #008000\">'url'</span>: <span style=\"color: #008000; text-decoration-color: #008000\">'https://errors.pydantic.dev/2.7/v/missing'</span>\n",
       "<span style=\"font-weight: bold\">}</span>\n",
       "</pre>\n"
      ],
      "text/plain": [
       "\u001b[1m{\u001b[0m\n",
       "    \u001b[32m'type'\u001b[0m: \u001b[32m'missing'\u001b[0m,\n",
       "    \u001b[32m'loc'\u001b[0m: \u001b[1m(\u001b[0m\u001b[32m'input_file'\u001b[0m,\u001b[1m)\u001b[0m,\n",
       "    \u001b[32m'msg'\u001b[0m: \u001b[32m'Field required'\u001b[0m,\n",
       "    \u001b[32m'input'\u001b[0m: \u001b[1m{\u001b[0m\u001b[1m}\u001b[0m,\n",
       "    \u001b[32m'url'\u001b[0m: \u001b[32m'https://errors.pydantic.dev/2.7/v/missing'\u001b[0m\n",
       "\u001b[1m}\u001b[0m\n"
      ]
     },
     "metadata": {},
     "output_type": "display_data"
    }
   ],
   "source": [
    "# trying to initialise without input file\n",
    "try:\n",
    "    p = ProdigalCommand()\n",
    "except ValueError as e:\n",
    "    for error in e.errors():\n",
    "        print(error)"
   ]
  },
  {
   "cell_type": "code",
   "execution_count": 6,
   "metadata": {},
   "outputs": [
    {
     "data": {
      "text/html": [
       "<pre style=\"white-space:pre;overflow-x:auto;line-height:normal;font-family:Menlo,'DejaVu Sans Mono',consolas,'Courier New',monospace\"><span style=\"font-weight: bold\">{</span>\n",
       "    <span style=\"color: #008000; text-decoration-color: #008000\">'type'</span>: <span style=\"color: #008000; text-decoration-color: #008000\">'value_error'</span>,\n",
       "    <span style=\"color: #008000; text-decoration-color: #008000\">'loc'</span>: <span style=\"font-weight: bold\">()</span>,\n",
       "    <span style=\"color: #008000; text-decoration-color: #008000\">'msg'</span>: <span style=\"color: #008000; text-decoration-color: #008000\">'Value error, Output file must end with the specified output format: .gff'</span>,\n",
       "    <span style=\"color: #008000; text-decoration-color: #008000\">'input'</span>: <span style=\"font-weight: bold\">{</span><span style=\"color: #008000; text-decoration-color: #008000\">'input_file'</span>: <span style=\"color: #008000; text-decoration-color: #008000\">'contigs.fna'</span>, <span style=\"color: #008000; text-decoration-color: #008000\">'output_format'</span>: <span style=\"color: #008000; text-decoration-color: #008000\">'gff'</span>, <span style=\"color: #008000; text-decoration-color: #008000\">'output_file'</span>: <span style=\"color: #008000; text-decoration-color: #008000\">'output.txt'</span><span style=\"font-weight: bold\">}</span>,\n",
       "    <span style=\"color: #008000; text-decoration-color: #008000\">'ctx'</span>: <span style=\"font-weight: bold\">{</span><span style=\"color: #008000; text-decoration-color: #008000\">'error'</span>: <span style=\"color: #800080; text-decoration-color: #800080; font-weight: bold\">ValueError</span><span style=\"font-weight: bold\">(</span><span style=\"color: #008000; text-decoration-color: #008000\">'Output file must end with the specified output format: .gff'</span><span style=\"font-weight: bold\">)}</span>,\n",
       "    <span style=\"color: #008000; text-decoration-color: #008000\">'url'</span>: <span style=\"color: #008000; text-decoration-color: #008000\">'https://errors.pydantic.dev/2.7/v/value_error'</span>\n",
       "<span style=\"font-weight: bold\">}</span>\n",
       "</pre>\n"
      ],
      "text/plain": [
       "\u001b[1m{\u001b[0m\n",
       "    \u001b[32m'type'\u001b[0m: \u001b[32m'value_error'\u001b[0m,\n",
       "    \u001b[32m'loc'\u001b[0m: \u001b[1m(\u001b[0m\u001b[1m)\u001b[0m,\n",
       "    \u001b[32m'msg'\u001b[0m: \u001b[32m'Value error, Output file must end with the specified output format: .gff'\u001b[0m,\n",
       "    \u001b[32m'input'\u001b[0m: \u001b[1m{\u001b[0m\u001b[32m'input_file'\u001b[0m: \u001b[32m'contigs.fna'\u001b[0m, \u001b[32m'output_format'\u001b[0m: \u001b[32m'gff'\u001b[0m, \u001b[32m'output_file'\u001b[0m: \u001b[32m'output.txt'\u001b[0m\u001b[1m}\u001b[0m,\n",
       "    \u001b[32m'ctx'\u001b[0m: \u001b[1m{\u001b[0m\u001b[32m'error'\u001b[0m: \u001b[1;35mValueError\u001b[0m\u001b[1m(\u001b[0m\u001b[32m'Output file must end with the specified output format: .gff'\u001b[0m\u001b[1m)\u001b[0m\u001b[1m}\u001b[0m,\n",
       "    \u001b[32m'url'\u001b[0m: \u001b[32m'https://errors.pydantic.dev/2.7/v/value_error'\u001b[0m\n",
       "\u001b[1m}\u001b[0m\n"
      ]
     },
     "metadata": {},
     "output_type": "display_data"
    }
   ],
   "source": [
    "# trying to initialise with incompatible output file\n",
    "try:\n",
    "    p = ProdigalCommand(input_file=\"contigs.fna\", output_format=\"gff\", output_file=\"output.txt\")\n",
    "except ValueError as e:\n",
    "    for error in e.errors():\n",
    "        print(error)"
   ]
  }
 ],
 "metadata": {
  "kernelspec": {
   "display_name": ".venv",
   "language": "python",
   "name": "python3"
  },
  "language_info": {
   "codemirror_mode": {
    "name": "ipython",
    "version": 3
   },
   "file_extension": ".py",
   "mimetype": "text/x-python",
   "name": "python",
   "nbconvert_exporter": "python",
   "pygments_lexer": "ipython3",
   "version": "3.10.12"
  }
 },
 "nbformat": 4,
 "nbformat_minor": 2
}
