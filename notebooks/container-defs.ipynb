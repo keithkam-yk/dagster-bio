{
 "cells": [
  {
   "cell_type": "code",
   "execution_count": 19,
   "metadata": {},
   "outputs": [
    {
     "name": "stdout",
     "output_type": "stream",
     "text": [
      "Current working directory: /Users/apple/Documents/dagster-bio\n",
      "No change in working directory needed\n"
     ]
    }
   ],
   "source": [
    "import os\n",
    "\n",
    "# Get the current working directory\n",
    "cwd = os.getcwd()\n",
    "print(f\"Current working directory: {cwd}\")\n",
    "\n",
    "# Check if the current working directory ends with \"notebooks\"\n",
    "if cwd.endswith(\"notebooks\"):\n",
    "    # Set the cwd to the parent directory\n",
    "    parent_dir = os.path.abspath(os.path.join(cwd, os.pardir))\n",
    "    os.chdir(parent_dir)\n",
    "    print(f\"Changed working directory to parent: {parent_dir}\")\n",
    "else:\n",
    "    print(\"No change in working directory needed\")\n"
   ]
  },
  {
   "cell_type": "code",
   "execution_count": 46,
   "metadata": {},
   "outputs": [],
   "source": [
    "from enum import unique\n",
    "from pydantic import BaseModel\n",
    "import subprocess\n",
    "from typing import List\n",
    "\n",
    "\n",
    "class Dependency(BaseModel):\n",
    "    channel: str\n",
    "    package: str\n",
    "    version: str\n",
    "\n",
    "\n",
    "class CondaImage(BaseModel):\n",
    "    image_name: str\n",
    "    image_version: str\n",
    "    dependencies: List[Dependency]\n",
    "\n",
    "    def get_docker_build_cmd(self):\n",
    "        # Construct the Docker build command with formatted build arguments\n",
    "        docker_build_cmd = [\n",
    "            \"docker\",\n",
    "            \"build\",\n",
    "            \"-t\",\n",
    "            f\"{self.image_name}:{self.image_version}\",\n",
    "            \"-f\",\n",
    "            \"dagster_bio/Dockerfile.conda\",\n",
    "        ]\n",
    "\n",
    "        # Format CONDA_DEPENDENCIES build argument\n",
    "        if self.dependencies:\n",
    "            dependencies_str = \" \".join(\n",
    "                [f\"{dep.channel}::{dep.package}={dep.version}\" for dep in self.dependencies]\n",
    "            )\n",
    "            dependencies_str = f'\"{dependencies_str}\"'\n",
    "            docker_build_cmd.extend(\n",
    "                [\"--build-arg\", f'CONDA_DEPENDENCIES={dependencies_str}']\n",
    "            )\n",
    "\n",
    "        docker_build_cmd.append(\".\")\n",
    "\n",
    "        return \" \".join(docker_build_cmd)\n",
    "\n",
    "    def build(self):\n",
    "        # Get Docker build command\n",
    "        docker_build_cmd = self.get_docker_build_cmd()\n",
    "\n",
    "        # Open a subprocess to execute the Docker build command\n",
    "        proc = subprocess.Popen(\n",
    "            docker_build_cmd,\n",
    "            shell=True,\n",
    "            stdout=subprocess.PIPE,\n",
    "            stderr=subprocess.PIPE,\n",
    "            text=True,  # Ensures output is treated as text (Python 3.7+)\n",
    "        )\n",
    "\n",
    "        # Read and print subprocess output line by line\n",
    "        while True:\n",
    "            stdout_line = proc.stdout.readline()\n",
    "            stderr_line = proc.stderr.readline()\n",
    "            if not stdout_line and not stderr_line and proc.poll() is not None:\n",
    "                break\n",
    "            if stdout_line:\n",
    "                print(stdout_line.strip())\n",
    "            if stderr_line:\n",
    "                print(stderr_line.strip())\n",
    "\n",
    "        # Ensure all output is read\n",
    "        stdout, stderr = proc.communicate()\n",
    "        if stdout:\n",
    "            print(stdout.strip())\n",
    "        if stderr:\n",
    "            print(stderr.strip())\n",
    "\n",
    "        # Check the exit code\n",
    "        return proc.returncode\n",
    "\n",
    "# Example usage:"
   ]
  },
  {
   "cell_type": "code",
   "execution_count": 50,
   "metadata": {},
   "outputs": [
    {
     "name": "stdout",
     "output_type": "stream",
     "text": [
      "docker build -t basescan-prodigal:1.0 -f dagster_bio/Dockerfile.conda --build-arg CONDA_DEPENDENCIES=\"bioconda::prodigal=2.6.3-8\" .\n"
     ]
    }
   ],
   "source": [
    "prodigal_image = CondaImage(\n",
    "    image_name=\"basescan-prodigal\",\n",
    "    image_version=\"1.0\",\n",
    "    dependencies=[\n",
    "        Dependency(channel=\"bioconda\", package=\"prodigal\", version=\"2.6.3-8\"),\n",
    "        # Dependency(channel=\"conda-forge\", package=\"pandas\", version=\"1.3.3\"),\n",
    "    ],\n",
    ")\n",
    "\n",
    "print(prodigal_image.get_docker_build_cmd())"
   ]
  },
  {
   "cell_type": "code",
   "execution_count": 51,
   "metadata": {},
   "outputs": [
    {
     "name": "stdout",
     "output_type": "stream",
     "text": [
      "#0 building with \"desktop-linux\" instance using docker driver\n",
      "\n",
      "#1 [internal] load build definition from Dockerfile.conda\n",
      "#1 transferring dockerfile: 397B 0.0s done\n",
      "#1 DONE 0.0s\n",
      "\n",
      "#2 [internal] load metadata for docker.io/mambaorg/micromamba:0.25.1\n",
      "#2 DONE 0.7s\n",
      "\n",
      "#3 [internal] load .dockerignore\n",
      "#3 transferring context: 2B done\n",
      "#3 DONE 0.0s\n",
      "\n",
      "#4 [1/3] FROM docker.io/mambaorg/micromamba:0.25.1@sha256:60f50fe56fdb7f5c41c494ea79b4fce7f4accb02d72f3eb0bca9d1369e5b40a9\n",
      "#4 CACHED\n",
      "\n",
      "#5 [2/3] RUN micromamba create -n conda_env\n",
      "#5 0.392\n",
      "#5 0.392                                            __\n",
      "#5 0.392           __  ______ ___  ____ _____ ___  / /_  ____ _\n",
      "#5 0.392          / / / / __ `__ \\/ __ `/ __ `__ \\/ __ \\/ __ `/\n",
      "#5 0.392         / /_/ / / / / / / /_/ / / / / / / /_/ / /_/ /\n",
      "#5 0.392        / .___/_/ /_/ /_/\\__,_/_/ /_/ /_/_.___/\\__,_/\n",
      "#5 0.392       /_/\n",
      "#5 0.392\n",
      "#5 0.394 Empty environment created at prefix: /opt/conda/envs/conda_env\n",
      "#5 DONE 0.4s\n",
      "\n",
      "#6 [3/3] RUN eval \"$(micromamba shell hook --shell=bash)\" &&     micromamba activate conda_env &&     echo \"Installing dependencies: bioconda::prodigal=2.6.3-8\" &&     micromamba install -y -n conda_env bioconda::prodigal=2.6.3-8\n",
      "#6 0.402 Installing dependencies: bioconda::prodigal=2.6.3-8\n",
      "#6 0.414\n",
      "#6 0.414                                            __\n",
      "#6 0.414           __  ______ ___  ____ _____ ___  / /_  ____ _\n",
      "#6 0.414          / / / / __ `__ \\/ __ `/ __ `__ \\/ __ \\/ __ `/\n",
      "#6 0.414         / /_/ / / / / / / /_/ / / / / / / /_/ / /_/ /\n",
      "#6 0.414        / .___/_/ /_/ /_/\\__,_/_/ /_/ /_/_.___/\\__,_/\n",
      "#6 0.414       /_/\n",
      "#6 0.414\n",
      "#6 10.08 error    libmamba Selected channel specific (or force-reinstall) job, but package is not available from channel. Solve job will fail.\n",
      "#6 10.08\n",
      "#6 10.08 Transaction\n",
      "#6 10.08\n",
      "#6 10.08   Prefix: /opt/conda/envs/conda_env\n",
      "#6 10.08\n",
      "#6 10.08   All requested packages already installed\n",
      "#6 10.08\n",
      "#6 10.08\n",
      "#6 10.08 Transaction starting\n",
      "#6 10.08 Transaction finished\n",
      "#6 DONE 10.2s\n",
      "\n",
      "#7 exporting to image\n",
      "#7 exporting layers\n",
      "#7 exporting layers 1.0s done\n",
      "#7 writing image sha256:17bc5fd950b2d2a21e7c9c972de9206cbd02b7621f608a27f2fc85c614d185a4\n",
      "#7 writing image sha256:17bc5fd950b2d2a21e7c9c972de9206cbd02b7621f608a27f2fc85c614d185a4 done\n",
      "#7 naming to docker.io/library/basescan-prodigal:1.0 done\n",
      "#7 DONE 1.0s\n",
      "\n",
      "View build details: docker-desktop://dashboard/build/desktop-linux/desktop-linux/hkjy6jb2lw4y0gnd6494kp4ii\n",
      "\n",
      "What's Next?\n",
      "View a summary of image vulnerabilities and recommendations → docker scout quickview\n"
     ]
    },
    {
     "data": {
      "text/plain": [
       "0"
      ]
     },
     "execution_count": 51,
     "metadata": {},
     "output_type": "execute_result"
    }
   ],
   "source": [
    "prodigal_image.build()"
   ]
  },
  {
   "cell_type": "code",
   "execution_count": 49,
   "metadata": {},
   "outputs": [
    {
     "data": {
      "text/plain": [
       "'docker build -t basescan-prodigal:1.0 -f dagster_bio/Dockerfile.conda --build-arg CONDA_DEPENDENCIES=\"bioconda::prodigal=2.6.3-8 conda-forge::pandas=1.3.3\" .'"
      ]
     },
     "execution_count": 49,
     "metadata": {},
     "output_type": "execute_result"
    }
   ],
   "source": [
    "prodigal_image.get_docker_build_cmd()"
   ]
  }
 ],
 "metadata": {
  "kernelspec": {
   "display_name": ".venv",
   "language": "python",
   "name": "python3"
  },
  "language_info": {
   "codemirror_mode": {
    "name": "ipython",
    "version": 3
   },
   "file_extension": ".py",
   "mimetype": "text/x-python",
   "name": "python",
   "nbconvert_exporter": "python",
   "pygments_lexer": "ipython3",
   "version": "3.10.12"
  }
 },
 "nbformat": 4,
 "nbformat_minor": 2
}
