{
 "cells": [
  {
   "cell_type": "code",
   "execution_count": 14,
   "metadata": {},
   "outputs": [
    {
     "name": "stdout",
     "output_type": "stream",
     "text": [
      "Current working directory: /Users/apple/Documents/dagster-bio\n",
      "No change in working directory needed\n"
     ]
    }
   ],
   "source": [
    "import os\n",
    "\n",
    "# Get the current working directory\n",
    "cwd = os.getcwd()\n",
    "print(f\"Current working directory: {cwd}\")\n",
    "\n",
    "# Check if the current working directory ends with \"notebooks\"\n",
    "if cwd.endswith(\"notebooks\"):\n",
    "    # Set the cwd to the parent directory\n",
    "    parent_dir = os.path.abspath(os.path.join(cwd, os.pardir))\n",
    "    os.chdir(parent_dir)\n",
    "    print(f\"Changed working directory to parent: {parent_dir}\")\n",
    "else:\n",
    "    print(\"No change in working directory needed\")\n"
   ]
  },
  {
   "cell_type": "code",
   "execution_count": 15,
   "metadata": {},
   "outputs": [],
   "source": [
    "from pydantic import BaseModel\n",
    "import subprocess\n",
    "from typing import Any, List\n",
    "import logging\n",
    "import select\n",
    "\n",
    "\n",
    "def setup_logging():\n",
    "    logging.basicConfig(level=logging.INFO, format=\"%(levelname)s - %(message)s\")\n",
    "    return logging.getLogger(__name__)\n",
    "\n",
    "\n",
    "logger = setup_logging()\n",
    "\n",
    "\n",
    "def read_output(process: subprocess.Popen[Any], logger: logging.Logger) -> None:\n",
    "    fd_stdout = process.stdout.fileno() if process.stdout else None\n",
    "    fd_stderr = process.stderr.fileno() if process.stderr else None\n",
    "    read_fds: List[int] = [fd for fd in [fd_stdout, fd_stderr] if fd is not None]\n",
    "\n",
    "    while read_fds:\n",
    "        ready, _, _ = select.select(read_fds, [], [])\n",
    "\n",
    "        for fd in ready:\n",
    "            if fd == fd_stdout and process.stdout:\n",
    "                line = process.stdout.readline()\n",
    "                if line:\n",
    "                    logger.info(line.strip())\n",
    "                else:\n",
    "                    read_fds.remove(fd_stdout)\n",
    "            elif fd == fd_stderr and process.stderr:\n",
    "                line = process.stderr.readline()\n",
    "                if line:\n",
    "                    logger.error(line.strip())\n",
    "                else:\n",
    "                    read_fds.remove(fd_stderr)\n",
    "\n",
    "\n",
    "class Dependency(BaseModel):\n",
    "    channel: str\n",
    "    package: str\n",
    "    version: str\n",
    "\n",
    "    def __str__(self):\n",
    "        return f\"{self.channel}::{self.package}={self.version}\"\n",
    "\n",
    "\n",
    "class CondaImage(BaseModel):\n",
    "    image_name: str\n",
    "    image_version: str\n",
    "    dependencies: List[Dependency]\n",
    "\n",
    "    def get_docker_build_cmd(self):\n",
    "        docker_build_cmd = [\n",
    "            \"docker\",\n",
    "            \"build\",\n",
    "            \"-t\",\n",
    "            f\"{self.image_name}:{self.image_version}\",\n",
    "            \"-f\",\n",
    "            \"dagster_bio/Dockerfile.conda\",\n",
    "        ]\n",
    "\n",
    "        if self.dependencies:\n",
    "            dependencies_str = \" \".join([str(dep) for dep in self.dependencies])\n",
    "            dependencies_str = f'\"{dependencies_str}\"'\n",
    "            docker_build_cmd.extend(\n",
    "                [\"--build-arg\", f\"CONDA_DEPENDENCIES={dependencies_str}\"]\n",
    "            )\n",
    "\n",
    "        docker_build_cmd.append(\".\")\n",
    "\n",
    "        return docker_build_cmd\n",
    "\n",
    "    def build(self):\n",
    "        docker_build_cmd = self.get_docker_build_cmd()\n",
    "\n",
    "        try:\n",
    "            process = subprocess.Popen(\n",
    "                docker_build_cmd,\n",
    "                stdout=subprocess.PIPE,\n",
    "                stderr=subprocess.PIPE,\n",
    "                text=True,\n",
    "                bufsize=1,\n",
    "                universal_newlines=True,\n",
    "            )\n",
    "\n",
    "            read_output(process, logger)\n",
    "\n",
    "            return_code = process.wait()\n",
    "            return return_code\n",
    "\n",
    "        except subprocess.CalledProcessError as e:\n",
    "            logger.error(f\"Error building Docker image: {e}\")\n",
    "            return e.returncode"
   ]
  },
  {
   "cell_type": "code",
   "execution_count": 16,
   "metadata": {},
   "outputs": [
    {
     "name": "stderr",
     "output_type": "stream",
     "text": [
      "INFO - hello world\n"
     ]
    }
   ],
   "source": [
    "logger.info(\"hello world\")"
   ]
  },
  {
   "cell_type": "code",
   "execution_count": 17,
   "metadata": {},
   "outputs": [
    {
     "name": "stdout",
     "output_type": "stream",
     "text": [
      "['docker', 'build', '-t', 'basescan-flye:1.0', '-f', 'dagster_bio/Dockerfile.conda', '--build-arg', 'CONDA_DEPENDENCIES=\"bioconda::flye=2.9.3 conda-forge::libgcc-ng=12\"', '.']\n",
      "docker build -t basescan-flye:1.0 -f dagster_bio/Dockerfile.conda --build-arg CONDA_DEPENDENCIES=\"bioconda::flye=2.9.3 conda-forge::libgcc-ng=12\" .\n"
     ]
    }
   ],
   "source": [
    "flye_image = CondaImage(\n",
    "    image_name=\"basescan-flye\",\n",
    "    image_version=\"1.0\",\n",
    "    dependencies=[\n",
    "        Dependency(channel=\"bioconda\", package=\"flye\", version=\"2.9.3\"),\n",
    "        Dependency(channel=\"conda-forge\", package=\"libgcc-ng\", version=\"12\"),\n",
    "        \n",
    "    ],\n",
    ")\n",
    "\n",
    "print(flye_image.get_docker_build_cmd())\n",
    "print(\" \".join(flye_image.get_docker_build_cmd()))"
   ]
  },
  {
   "cell_type": "code",
   "execution_count": 18,
   "metadata": {},
   "outputs": [
    {
     "name": "stderr",
     "output_type": "stream",
     "text": [
      "ERROR - #0 building with \"desktop-linux\" instance using docker driver\n",
      "ERROR - \n",
      "ERROR - #1 [internal] load build definition from Dockerfile.conda\n",
      "ERROR - #1 transferring dockerfile: 397B 0.1s done\n",
      "ERROR - #1 DONE 0.2s\n",
      "ERROR - \n",
      "ERROR - #2 [internal] load metadata for docker.io/mambaorg/micromamba:latest\n",
      "ERROR - #2 DONE 1.2s\n",
      "ERROR - \n",
      "ERROR - #3 [internal] load .dockerignore\n",
      "ERROR - #3 transferring context: 2B 0.0s done\n",
      "ERROR - #3 DONE 0.0s\n",
      "ERROR - \n",
      "ERROR - #4 [1/3] FROM docker.io/mambaorg/micromamba:latest@sha256:b17c9b1543a713d3a6cf48a0dc44a20ee26407ad75509fd28d86f6714dae8342\n",
      "ERROR - #4 CACHED\n",
      "ERROR - \n",
      "ERROR - #5 [2/3] RUN micromamba create -n conda_env\n",
      "ERROR - #5 1.172 Empty environment created at prefix: /opt/conda/envs/conda_env\n",
      "ERROR - #5 DONE 1.3s\n",
      "ERROR - \n",
      "ERROR - #6 [3/3] RUN eval \"$(micromamba shell hook --shell=bash)\" &&     micromamba activate conda_env &&     echo \"Installing dependencies: \"bioconda::flye=2.9.3 conda-forge::libgcc-ng=12\"\" &&     micromamba install -y -n conda_env \"bioconda::flye=2.9.3 conda-forge::libgcc-ng=12\"\n",
      "ERROR - #6 1.730 Installing dependencies: \"bioconda::flye=2.9.3 conda-forge::libgcc-ng=12\"\n",
      "ERROR - #6 2.922 critical libmamba Multiple errors occured:\n",
      "ERROR - #6 2.922     Multi-download failed. Reason: Transfer finalized, status: 404 [https://conda.anaconda.org/\"bioconda/noarch/repodata.json] 2655 bytes\n",
      "ERROR - #6 2.922     Subdir \"bioconda/noarch not loaded!\n",
      "ERROR - #6 2.922     Subdir conda-forge/noarch not loaded!\n",
      "ERROR - #6 2.922\n",
      "ERROR - #6 ERROR: process \"/usr/local/bin/_dockerfile_shell.sh eval \\\"$(micromamba shell hook --shell=bash)\\\" &&     micromamba activate conda_env &&     echo \\\"Installing dependencies: $CONDA_DEPENDENCIES\\\" &&     micromamba install -y -n conda_env $CONDA_DEPENDENCIES\" did not complete successfully: exit code: 1\n",
      "ERROR - ------\n",
      "ERROR - > [3/3] RUN eval \"$(micromamba shell hook --shell=bash)\" &&     micromamba activate conda_env &&     echo \"Installing dependencies: \"bioconda::flye=2.9.3 conda-forge::libgcc-ng=12\"\" &&     micromamba install -y -n conda_env \"bioconda::flye=2.9.3 conda-forge::libgcc-ng=12\":\n",
      "ERROR - 1.730 Installing dependencies: \"bioconda::flye=2.9.3 conda-forge::libgcc-ng=12\"\n",
      "ERROR - 2.922 critical libmamba Multiple errors occured:\n",
      "ERROR - 2.922     Multi-download failed. Reason: Transfer finalized, status: 404 [https://conda.anaconda.org/\"bioconda/noarch/repodata.json] 2655 bytes\n",
      "ERROR - 2.922     Subdir \"bioconda/noarch not loaded!\n",
      "ERROR - 2.922     Subdir conda-forge/noarch not loaded!\n",
      "ERROR - 2.922\n",
      "ERROR - ------\n",
      "ERROR - Dockerfile.conda:7\n",
      "ERROR - --------------------\n",
      "ERROR - 6 |\n",
      "ERROR - 7 | >>> RUN eval \"$(micromamba shell hook --shell=bash)\" && \\\n",
      "ERROR - 8 | >>>     micromamba activate conda_env && \\\n",
      "ERROR - 9 | >>>     echo \"Installing dependencies: $CONDA_DEPENDENCIES\" && \\\n",
      "ERROR - 10 | >>>     micromamba install -y -n conda_env $CONDA_DEPENDENCIES\n",
      "ERROR - 11 |\n",
      "ERROR - --------------------\n",
      "ERROR - ERROR: failed to solve: process \"/usr/local/bin/_dockerfile_shell.sh eval \\\"$(micromamba shell hook --shell=bash)\\\" &&     micromamba activate conda_env &&     echo \\\"Installing dependencies: $CONDA_DEPENDENCIES\\\" &&     micromamba install -y -n conda_env $CONDA_DEPENDENCIES\" did not complete successfully: exit code: 1\n",
      "ERROR - \n",
      "ERROR - View build details: docker-desktop://dashboard/build/desktop-linux/desktop-linux/yduitvuqjjntd48e9v8x1p0yr\n"
     ]
    },
    {
     "data": {
      "text/plain": [
       "1"
      ]
     },
     "execution_count": 18,
     "metadata": {},
     "output_type": "execute_result"
    }
   ],
   "source": [
    "flye_image.build()"
   ]
  },
  {
   "cell_type": "code",
   "execution_count": null,
   "metadata": {},
   "outputs": [],
   "source": []
  }
 ],
 "metadata": {
  "kernelspec": {
   "display_name": ".venv",
   "language": "python",
   "name": "python3"
  },
  "language_info": {
   "codemirror_mode": {
    "name": "ipython",
    "version": 3
   },
   "file_extension": ".py",
   "mimetype": "text/x-python",
   "name": "python",
   "nbconvert_exporter": "python",
   "pygments_lexer": "ipython3",
   "version": "3.10.12"
  }
 },
 "nbformat": 4,
 "nbformat_minor": 2
}
