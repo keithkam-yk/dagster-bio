{
 "cells": [
  {
   "cell_type": "code",
   "execution_count": 3,
   "metadata": {},
   "outputs": [],
   "source": [
    "from container import CondaImage, Dependency, run_subprocess"
   ]
  },
  {
   "cell_type": "code",
   "execution_count": 4,
   "metadata": {},
   "outputs": [],
   "source": [
    "import logging \n",
    "logging.basicConfig(level=logging.INFO, format=\"%(levelname)s - %(name)s - %(message)s\")\n",
    "logger = logging.getLogger(__name__)"
   ]
  },
  {
   "cell_type": "code",
   "execution_count": 5,
   "metadata": {},
   "outputs": [
    {
     "name": "stdout",
     "output_type": "stream",
     "text": [
      "Current working directory: /Users/apple/Documents/dagster-bio/notebooks\n",
      "Changed working directory to parent: /Users/apple/Documents/dagster-bio\n"
     ]
    }
   ],
   "source": [
    "import os\n",
    "\n",
    "# Get the current working directory\n",
    "cwd = os.getcwd()\n",
    "print(f\"Current working directory: {cwd}\")\n",
    "\n",
    "# Check if the current working directory ends with \"notebooks\"\n",
    "if cwd.endswith(\"notebooks\"):\n",
    "    # Set the cwd to the parent directory\n",
    "    parent_dir = os.path.abspath(os.path.join(cwd, os.pardir))\n",
    "    os.chdir(parent_dir)\n",
    "    print(f\"Changed working directory to parent: {parent_dir}\")\n",
    "else:\n",
    "    print(\"No change in working directory needed\")"
   ]
  },
  {
   "cell_type": "code",
   "execution_count": 6,
   "metadata": {},
   "outputs": [
    {
     "name": "stdout",
     "output_type": "stream",
     "text": [
      "['docker', 'build', '--progress=plain', '-t', 'basescan-flye:1.0', '-f', 'dagster_bio/Dockerfile.conda', '--build-arg', 'CONDA_DEPENDENCIES=bioconda::flye=2.9.3 conda-forge::libgcc-ng=12', '.']\n",
      "docker build --progress=plain -t basescan-flye:1.0 -f dagster_bio/Dockerfile.conda --build-arg CONDA_DEPENDENCIES=bioconda::flye=2.9.3 conda-forge::libgcc-ng=12 .\n"
     ]
    }
   ],
   "source": [
    "flye_image = CondaImage(\n",
    "    image_name=\"basescan-flye\",\n",
    "    image_version=\"1.0\",\n",
    "    dependencies=[\n",
    "        Dependency(channel=\"bioconda\", package=\"flye\", version=\"2.9.3\"),\n",
    "        Dependency(channel=\"conda-forge\", package=\"libgcc-ng\", version=\"12\"),\n",
    "    ],\n",
    ")\n",
    "\n",
    "print(flye_image.get_docker_build_cmd())\n",
    "print(\" \".join(flye_image.get_docker_build_cmd()))"
   ]
  },
  {
   "cell_type": "code",
   "execution_count": 7,
   "metadata": {},
   "outputs": [
    {
     "name": "stderr",
     "output_type": "stream",
     "text": [
      "INFO - container - #0 building with \"desktop-linux\" instance using docker driver\n",
      "INFO - container - \n",
      "INFO - container - #1 [internal] load build definition from Dockerfile.conda\n",
      "INFO - container - #1 transferring dockerfile: 417B 0.0s done\n",
      "INFO - container - #1 DONE 0.1s\n",
      "INFO - container - \n",
      "INFO - container - #2 [internal] load metadata for docker.io/mambaorg/micromamba:0.23.1\n",
      "INFO - container - #2 DONE 1.7s\n",
      "INFO - container - \n",
      "INFO - container - #3 [internal] load .dockerignore\n",
      "INFO - container - #3 transferring context: 2B done\n",
      "INFO - container - #3 DONE 0.0s\n",
      "INFO - container - \n",
      "INFO - container - #4 [1/2] FROM docker.io/mambaorg/micromamba:0.23.1@sha256:68e83b9db0f79f38b818c4b4b1e6ecc43dcf3b8646540c6b84291792a1922c87\n",
      "INFO - container - #4 DONE 0.0s\n",
      "INFO - container - \n",
      "INFO - container - #5 [2/2] RUN micromamba create --name conda_env bioconda::flye=2.9.3 conda-forge::libgcc-ng=12 &&     micromamba clean --all --yes\n",
      "INFO - container - #5 CACHED\n",
      "INFO - container - \n",
      "INFO - container - #6 exporting to image\n",
      "INFO - container - #6 exporting layers done\n",
      "INFO - container - #6 writing image sha256:80aa87fd06d95147c85f8868fdcfa8b0a00e0440a9b230a09f4491827f6748e4 done\n",
      "INFO - container - #6 naming to docker.io/library/basescan-flye:1.0 0.0s done\n",
      "INFO - container - #6 DONE 0.1s\n",
      "INFO - container - \n",
      "INFO - container - View build details: docker-desktop://dashboard/build/desktop-linux/desktop-linux/tezdudvn967fyje1olj2qpjes\n",
      "INFO - container - \n",
      "INFO - container - What's Next?\n",
      "INFO - container - 1. Sign in to your Docker account → docker login\n",
      "INFO - container - 2. View a summary of image vulnerabilities and recommendations → docker scout quickview\n"
     ]
    },
    {
     "data": {
      "text/plain": [
       "0"
      ]
     },
     "execution_count": 7,
     "metadata": {},
     "output_type": "execute_result"
    }
   ],
   "source": [
    "flye_image.build()"
   ]
  },
  {
   "cell_type": "code",
   "execution_count": 8,
   "metadata": {},
   "outputs": [
    {
     "name": "stderr",
     "output_type": "stream",
     "text": [
      "INFO - __main__ - 2.9.3-b1797\n"
     ]
    },
    {
     "data": {
      "text/plain": [
       "0"
      ]
     },
     "execution_count": 8,
     "metadata": {},
     "output_type": "execute_result"
    }
   ],
   "source": [
    "run_subprocess(\n",
    "    [\"docker\", \"run\", \"--rm\", str(flye_image), \"flye\", \"--version\"], logger=logger\n",
    ")"
   ]
  },
  {
   "cell_type": "code",
   "execution_count": 9,
   "metadata": {},
   "outputs": [
    {
     "name": "stderr",
     "output_type": "stream",
     "text": [
      "INFO - __main__ - usage: flye (--pacbio-raw | --pacbio-corr | --pacbio-hifi | --nano-raw |\n",
      "INFO - __main__ - --nano-corr | --nano-hq ) file1 [file_2 ...]\n",
      "INFO - __main__ - --out-dir PATH\n",
      "INFO - __main__ - \n",
      "INFO - __main__ - [--genome-size SIZE] [--threads int] [--iterations int]\n",
      "INFO - __main__ - [--meta] [--polish-target] [--min-overlap SIZE]\n",
      "INFO - __main__ - [--keep-haplotypes] [--debug] [--version] [--help]\n",
      "INFO - __main__ - [--scaffold] [--resume] [--resume-from] [--stop-after]\n",
      "INFO - __main__ - [--read-error float] [--extra-params]\n",
      "INFO - __main__ - [--deterministic]\n",
      "INFO - __main__ - \n",
      "INFO - __main__ - Assembly of long reads with repeat graphs\n",
      "INFO - __main__ - \n",
      "INFO - __main__ - options:\n",
      "INFO - __main__ - -h, --help            show this help message and exit\n",
      "INFO - __main__ - --pacbio-raw path [path ...]\n",
      "INFO - __main__ - PacBio regular CLR reads (<20% error)\n",
      "INFO - __main__ - --pacbio-corr path [path ...]\n",
      "INFO - __main__ - PacBio reads that were corrected with other methods\n",
      "INFO - __main__ - (<3% error)\n",
      "INFO - __main__ - --pacbio-hifi path [path ...]\n",
      "INFO - __main__ - PacBio HiFi reads (<1% error)\n",
      "INFO - __main__ - --nano-raw path [path ...]\n",
      "INFO - __main__ - ONT regular reads, pre-Guppy5 (<20% error)\n",
      "INFO - __main__ - --nano-corr path [path ...]\n",
      "INFO - __main__ - ONT reads that were corrected with other methods (<3%\n",
      "INFO - __main__ - error)\n",
      "INFO - __main__ - --nano-hq path [path ...]\n",
      "INFO - __main__ - ONT high-quality reads: Guppy5+ SUP or Q20 (<5% error)\n",
      "INFO - __main__ - --subassemblies path [path ...]\n",
      "INFO - __main__ - [deprecated] high-quality contigs input\n",
      "INFO - __main__ - -g size, --genome-size size\n",
      "INFO - __main__ - estimated genome size (for example, 5m or 2.6g)\n",
      "INFO - __main__ - -o path, --out-dir path\n",
      "INFO - __main__ - Output directory\n",
      "INFO - __main__ - -t int, --threads int\n",
      "INFO - __main__ - number of parallel threads [1]\n",
      "INFO - __main__ - -i int, --iterations int\n",
      "INFO - __main__ - number of polishing iterations [1]\n",
      "INFO - __main__ - -m int, --min-overlap int\n",
      "INFO - __main__ - minimum overlap between reads [auto]\n",
      "INFO - __main__ - --asm-coverage int    reduced coverage for initial disjointig assembly [not\n",
      "INFO - __main__ - set]\n",
      "INFO - __main__ - --hifi-error float    [deprecated] same as --read-error\n",
      "INFO - __main__ - --read-error float    adjust parameters for given read error rate (as\n",
      "INFO - __main__ - fraction e.g. 0.03)\n",
      "INFO - __main__ - --extra-params extra_params\n",
      "INFO - __main__ - extra configuration parameters list (comma-separated)\n",
      "INFO - __main__ - --plasmids            unused (retained for backward compatibility)\n",
      "INFO - __main__ - --meta                metagenome / uneven coverage mode\n",
      "INFO - __main__ - --keep-haplotypes     do not collapse alternative haplotypes\n",
      "INFO - __main__ - --no-alt-contigs      do not output contigs representing alternative\n",
      "INFO - __main__ - haplotypes\n",
      "INFO - __main__ - --scaffold            enable scaffolding using graph [disabled by default]\n",
      "INFO - __main__ - --trestle             [deprecated] enable Trestle [disabled by default]\n",
      "INFO - __main__ - --polish-target path  run polisher on the target sequence\n",
      "INFO - __main__ - --resume              resume from the last completed stage\n",
      "INFO - __main__ - --resume-from stage_name\n",
      "INFO - __main__ - resume from a custom stage\n",
      "INFO - __main__ - --stop-after stage_name\n",
      "INFO - __main__ - stop after the specified stage completed\n",
      "INFO - __main__ - --debug               enable debug output\n",
      "INFO - __main__ - -v, --version         show program's version number and exit\n",
      "INFO - __main__ - --deterministic       perform disjointig assembly single-threaded\n",
      "INFO - __main__ - \n",
      "INFO - __main__ - Input reads can be in FASTA or FASTQ format, uncompressed\n",
      "INFO - __main__ - or compressed with gz. Currently, PacBio (CLR, HiFi, corrected)\n",
      "INFO - __main__ - and ONT reads (regular, HQ, corrected) are supported. Expected error rates are\n",
      "INFO - __main__ - <15% for PB CLR/regular ONT; <5% for ONT HQ, <3% for corrected, and <1% for HiFi. Note that Flye\n",
      "INFO - __main__ - was primarily developed to run on uncorrected reads. You may specify multiple\n",
      "INFO - __main__ - files with reads (separated by spaces). Mixing different read\n",
      "INFO - __main__ - types is not yet supported. The --meta option enables the mode\n",
      "INFO - __main__ - for metagenome/uneven coverage assembly.\n",
      "INFO - __main__ - \n",
      "INFO - __main__ - To reduce memory consumption for large genome assemblies,\n",
      "INFO - __main__ - you can use a subset of the longest reads for initial disjointig\n",
      "INFO - __main__ - assembly by specifying --asm-coverage and --genome-size options. Typically,\n",
      "INFO - __main__ - 40x coverage is enough to produce good disjointigs.\n",
      "INFO - __main__ - \n",
      "INFO - __main__ - You can run Flye polisher as a standalone tool using\n",
      "INFO - __main__ - --polish-target option.\n"
     ]
    },
    {
     "data": {
      "text/plain": [
       "0"
      ]
     },
     "execution_count": 9,
     "metadata": {},
     "output_type": "execute_result"
    }
   ],
   "source": [
    "run_subprocess(\n",
    "    [\"docker\", \"run\", \"--rm\", str(flye_image), \"flye\", \"--help\"], logger=logger\n",
    ")"
   ]
  },
  {
   "cell_type": "code",
   "execution_count": null,
   "metadata": {},
   "outputs": [],
   "source": []
  }
 ],
 "metadata": {
  "kernelspec": {
   "display_name": ".venv",
   "language": "python",
   "name": "python3"
  },
  "language_info": {
   "codemirror_mode": {
    "name": "ipython",
    "version": 3
   },
   "file_extension": ".py",
   "mimetype": "text/x-python",
   "name": "python",
   "nbconvert_exporter": "python",
   "pygments_lexer": "ipython3",
   "version": "3.10.12"
  }
 },
 "nbformat": 4,
 "nbformat_minor": 2
}
